{
  "nbformat": 4,
  "nbformat_minor": 0,
  "metadata": {
    "colab": {
      "provenance": [],
      "include_colab_link": true
    },
    "kernelspec": {
      "name": "python3",
      "display_name": "Python 3"
    },
    "language_info": {
      "name": "python"
    }
  },
  "cells": [
    {
      "cell_type": "markdown",
      "metadata": {
        "id": "view-in-github",
        "colab_type": "text"
      },
      "source": [
        "<a href=\"https://colab.research.google.com/github/VihanPatel13/Class11/blob/main/project_106_template.ipynb\" target=\"_parent\"><img src=\"https://colab.research.google.com/assets/colab-badge.svg\" alt=\"Open In Colab\"/></a>"
      ]
    },
    {
      "cell_type": "markdown",
      "source": [
        "###Create a list named **resut** having the following elements:\n",
        "* “Maths”\n",
        "* 90\n",
        "* “English”\n",
        "* 80\n",
        "* “History”\n",
        "* 75\n",
        "* “Art”\n",
        "* 85\n"
      ],
      "metadata": {
        "id": "I1TXW93FEgNE"
      }
    },
    {
      "cell_type": "code",
      "source": [
        "result = [\"Math\", 90, \"English\", 80, \"History\", 75, \"Art\", 85 ] \n",
        "result "
      ],
      "metadata": {
        "id": "3YRA8m_xE0bJ",
        "outputId": "618bfe63-7fb0-4762-9f18-2a8d15bb7efb",
        "colab": {
          "base_uri": "https://localhost:8080/"
        }
      },
      "execution_count": 1,
      "outputs": [
        {
          "output_type": "execute_result",
          "data": {
            "text/plain": [
              "['Math', 90, 'English', 80, 'History', 75, 'Art', 85]"
            ]
          },
          "metadata": {},
          "execution_count": 1
        }
      ]
    },
    {
      "cell_type": "markdown",
      "source": [
        "###Use slicing to print only the names of the subjects"
      ],
      "metadata": {
        "id": "NJAthvIsE4DG"
      }
    },
    {
      "cell_type": "code",
      "source": [
        "result[ 0:7:2 ]"
      ],
      "metadata": {
        "id": "Cwz4dTHbFBhb",
        "outputId": "161cbd5a-16a8-49f9-d854-f69ba9f59564",
        "colab": {
          "base_uri": "https://localhost:8080/"
        }
      },
      "execution_count": 2,
      "outputs": [
        {
          "output_type": "execute_result",
          "data": {
            "text/plain": [
              "['Math', 'English', 'History', 'Art']"
            ]
          },
          "metadata": {},
          "execution_count": 2
        }
      ]
    },
    {
      "cell_type": "markdown",
      "source": [
        "###Use slicing to print only the marks"
      ],
      "metadata": {
        "id": "N7ZSuaJeE_I6"
      }
    },
    {
      "cell_type": "code",
      "source": [
        "result[ 1:8 :2 ]"
      ],
      "metadata": {
        "id": "T21W2oLuFCOx",
        "outputId": "a4a716a0-291b-4c7b-ab33-5d0d6e85d101",
        "colab": {
          "base_uri": "https://localhost:8080/"
        }
      },
      "execution_count": 5,
      "outputs": [
        {
          "output_type": "execute_result",
          "data": {
            "text/plain": [
              "[90, 80, 75, 85]"
            ]
          },
          "metadata": {},
          "execution_count": 5
        }
      ]
    }
  ]
}